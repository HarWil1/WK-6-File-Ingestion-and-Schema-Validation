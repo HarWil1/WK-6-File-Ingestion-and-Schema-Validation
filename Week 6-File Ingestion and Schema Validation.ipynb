{
 "cells": [
  {
   "cell_type": "markdown",
   "id": "0801c78d",
   "metadata": {},
   "source": [
    "### Week 6 Assignment- File Ingestion and Schema Validation"
   ]
  },
  {
   "cell_type": "markdown",
   "id": "0df3ea6b",
   "metadata": {},
   "source": [
    "#### To get the size of the csv file."
   ]
  },
  {
   "cell_type": "code",
   "execution_count": 3,
   "id": "3817d51d",
   "metadata": {},
   "outputs": [
    {
     "data": {
      "text/plain": [
       "3791120545"
      ]
     },
     "execution_count": 3,
     "metadata": {},
     "output_type": "execute_result"
    }
   ],
   "source": [
    "import os\n",
    "import time\n",
    "#Size of the file\n",
    "os.path.getsize('C:/Users/TALEHOUSE/Downloads/archive (1)/yelp_review.csv')"
   ]
  },
  {
   "cell_type": "markdown",
   "id": "34a41999",
   "metadata": {},
   "source": [
    "#### Reading the data using Dask, Pandas, and Modin to compare computional efficiency."
   ]
  },
  {
   "cell_type": "markdown",
   "id": "62c80525",
   "metadata": {},
   "source": [
    "#### Reading the data with Dask"
   ]
  },
  {
   "cell_type": "code",
   "execution_count": 4,
   "id": "ba3d7b6a",
   "metadata": {},
   "outputs": [
    {
     "name": "stdout",
     "output_type": "stream",
     "text": [
      "Time it takes to read csv with dask is:  0.025932788848876953 sec\n"
     ]
    }
   ],
   "source": [
    "from dask import dataframe as dd\n",
    "start_time = time.time()\n",
    "dask_df = dd.read_csv('C:/Users/TALEHOUSE/Downloads/archive (1)/yelp_review.csv')\n",
    "end_time = time.time()\n",
    "print(\"Time it takes to read csv with dask is: \",(end_time-start_time),\"sec\")"
   ]
  },
  {
   "cell_type": "markdown",
   "id": "d13e97a5",
   "metadata": {},
   "source": [
    "#### Reading the data with Pandas."
   ]
  },
  {
   "cell_type": "code",
   "execution_count": 6,
   "id": "eed8418e",
   "metadata": {},
   "outputs": [
    {
     "name": "stdout",
     "output_type": "stream",
     "text": [
      "Time it takes to read csv with pandas is:  189.12285017967224 sec\n"
     ]
    }
   ],
   "source": [
    "import pandas as pd\n",
    "start_time = time.time()\n",
    "pandas_df = pd.read_csv('C:/Users/TALEHOUSE/Downloads/archive (1)/yelp_review.csv')\n",
    "end_time = time.time()\n",
    "print(\"Time it takes to read csv with pandas is: \",(end_time-start_time),\"sec\")"
   ]
  },
  {
   "cell_type": "markdown",
   "id": "8c62ea52",
   "metadata": {},
   "source": [
    "#### Reading the data with Modin and Ray"
   ]
  },
  {
   "cell_type": "code",
   "execution_count": 7,
   "id": "b9834b48",
   "metadata": {},
   "outputs": [
    {
     "name": "stderr",
     "output_type": "stream",
     "text": [
      "2023-04-11 18:34:36,064\tINFO worker.py:1553 -- Started a local Ray instance.\n",
      "UserWarning: When using a pre-initialized Ray cluster, please ensure that the runtime env sets environment variable __MODIN_AUTOIMPORT_PANDAS__ to 1\n"
     ]
    },
    {
     "name": "stdout",
     "output_type": "stream",
     "text": [
      "Time it takes to read csv with modin and ray is:  461.0015563964844 sec\n"
     ]
    }
   ],
   "source": [
    "import modin.pandas as mpd\n",
    "import ray\n",
    "ray.shutdown()\n",
    "ray.init()\n",
    "start_time = time.time()\n",
    "modin_df = mpd.read_csv('C:/Users/TALEHOUSE/Downloads/archive (1)/yelp_review.csv')\n",
    "end_time = time.time()\n",
    "print(\"Time it takes to read csv with modin and ray is: \",(end_time-start_time),\"sec\")"
   ]
  },
  {
   "cell_type": "markdown",
   "id": "594c56f8",
   "metadata": {},
   "source": [
    "#### RESULTS"
   ]
  },
  {
   "cell_type": "markdown",
   "id": "403f0460",
   "metadata": {},
   "source": [
    "Pandas DataFrame took around 189 seconds and Modin took 461 seconds whereas the same task is performed by Dask DataFrame took   0.02 seconds making it much less than a second time due to its impressive parallelization capabilities.    \n",
    "\n",
    "Dask helps in doing data analysis faster because it parallelizes the existing frameworks like Pandas, Numpy, Scikit-Learn,   \n",
    "and process data parallelly using the full potential of the machine’s CPU.\n",
    "Hence Dask is better in reading large data sets than Pandas,Modin and Ray."
   ]
  },
  {
   "cell_type": "markdown",
   "id": "85ba9ba8",
   "metadata": {},
   "source": [
    "#### Reading the csv using the fastest method in handling large data set."
   ]
  },
  {
   "cell_type": "code",
   "execution_count": 9,
   "id": "bdbcc2b4",
   "metadata": {},
   "outputs": [],
   "source": [
    "from dask import dataframe as dd\n",
    "df = dask_df\n",
    "df = dd.read_csv('C:/Users/TALEHOUSE/Downloads/archive (1)/yelp_review.csv',delimiter=',')"
   ]
  },
  {
   "cell_type": "markdown",
   "id": "38fdd2e5",
   "metadata": {},
   "source": [
    "####  Data Exploration."
   ]
  },
  {
   "cell_type": "code",
   "execution_count": 10,
   "id": "6a1f0e72",
   "metadata": {},
   "outputs": [
    {
     "name": "stdout",
     "output_type": "stream",
     "text": [
      "<class 'dask.dataframe.core.DataFrame'>\n",
      "Columns: 9 entries, review_id to cool\n",
      "dtypes: object(5), int64(4)"
     ]
    }
   ],
   "source": [
    "df.info()"
   ]
  },
  {
   "cell_type": "code",
   "execution_count": 11,
   "id": "82d691f2",
   "metadata": {},
   "outputs": [
    {
     "data": {
      "text/plain": [
       "Index(['review_id', 'user_id', 'business_id', 'stars', 'date', 'text',\n",
       "       'useful', 'funny', 'cool'],\n",
       "      dtype='object')"
      ]
     },
     "execution_count": 11,
     "metadata": {},
     "output_type": "execute_result"
    }
   ],
   "source": [
    "df.columns"
   ]
  },
  {
   "cell_type": "code",
   "execution_count": 12,
   "id": "41b8e45a",
   "metadata": {},
   "outputs": [
    {
     "data": {
      "text/plain": [
       "9"
      ]
     },
     "execution_count": 12,
     "metadata": {},
     "output_type": "execute_result"
    }
   ],
   "source": [
    "#No, of Columns\n",
    "len(df.columns)"
   ]
  },
  {
   "cell_type": "markdown",
   "id": "d15a2db3",
   "metadata": {},
   "source": [
    "#### Data Cleaning"
   ]
  },
  {
   "cell_type": "code",
   "execution_count": 13,
   "id": "7e11eb98",
   "metadata": {},
   "outputs": [
    {
     "name": "stderr",
     "output_type": "stream",
     "text": [
      "FutureWarning: The default value of regex will change from True to False in a future version.\n"
     ]
    }
   ],
   "source": [
    "# Removing special character\n",
    "df.columns=df.columns.str.replace('[#,@,&]','')\n"
   ]
  },
  {
   "cell_type": "code",
   "execution_count": 14,
   "id": "e561aeed",
   "metadata": {},
   "outputs": [
    {
     "data": {
      "text/plain": [
       "Index(['review_id', 'user_id', 'business_id', 'stars', 'date', 'text',\n",
       "       'useful', 'funny', 'cool'],\n",
       "      dtype='object')"
      ]
     },
     "execution_count": 14,
     "metadata": {},
     "output_type": "execute_result"
    }
   ],
   "source": [
    "#To remove white space from columns\n",
    "df.columns = df.columns.str.replace(' ', '')\n",
    "data=df.columns\n",
    "data"
   ]
  },
  {
   "cell_type": "markdown",
   "id": "cf270a16",
   "metadata": {},
   "source": [
    "#### Validation: Creating a utility file"
   ]
  },
  {
   "cell_type": "code",
   "execution_count": 20,
   "id": "945dae50",
   "metadata": {},
   "outputs": [
    {
     "name": "stdout",
     "output_type": "stream",
     "text": [
      "Overwriting utility.py\n"
     ]
    }
   ],
   "source": [
    "%%writefile utility.py\n",
    "import logging\n",
    "import os\n",
    "import subprocess\n",
    "import yaml\n",
    "import pandas as pd\n",
    "import datetime \n",
    "import gc\n",
    "import re\n",
    "\n",
    "def read_config_file(filepath):\n",
    "    with open(filepath, 'r') as stream:\n",
    "        try:\n",
    "            return yaml.load(stream, Loader=yaml.Loader)\n",
    "        except yaml.YAMLError as exc:\n",
    "            logging.error(exc)\n",
    "\n",
    "def col_header_val(df,table_config):\n",
    "    df.columns = df.columns.str.lower()\n",
    "    df.columns = df.columns.str.replace('[^\\w]','_',regex=True)\n",
    "    df.columns = list(map(lambda x: x.strip('_'), list(df.columns)))\n",
    "    df.columns = list(map(lambda x: replacer(x,'_'), list(df.columns)))\n",
    "    expected_col = list(map(lambda x: x.lower(),  table_config['columns']))\n",
    "    expected_col.sort()\n",
    "    df.columns =list(map(lambda x: x.lower(), list(df.columns)))\n",
    "    df = df.reindex(sorted(df.columns), axis=1)\n",
    "    if len(df.columns) == len(expected_col) and list(expected_col)  == list(df.columns):\n",
    "        print(\"column name and column length validation passed\")\n",
    "        return 1\n",
    "    else:\n",
    "        print(\"column name and column length validation failed\")\n",
    "        mismatched_columns_file = list(set(df.columns).difference(expected_col))\n",
    "        print(\"Following File columns are not in the YAML file\",mismatched_columns_file)\n",
    "        missing_YAML_file = list(set(expected_col).difference(df.columns))\n",
    "        print(\"Following YAML columns are not in the file uploaded\",missing_YAML_file)\n",
    "        logging.info(f'df columns: {df.columns}')\n",
    "        logging.info(f'expected columns: {expected_col}')\n",
    "        return 0"
   ]
  },
  {
   "cell_type": "markdown",
   "id": "aed19e0a",
   "metadata": {},
   "source": [
    "#### creating a yaml file"
   ]
  },
  {
   "cell_type": "code",
   "execution_count": 17,
   "id": "ad4028f3",
   "metadata": {},
   "outputs": [
    {
     "name": "stdout",
     "output_type": "stream",
     "text": [
      "Overwriting store.yaml\n"
     ]
    }
   ],
   "source": [
    "%%writefile store.yaml\n",
    "file_type: csv\n",
    "dataset_name: file\n",
    "file_name: yelp_review\n",
    "table_name: edsurv\n",
    "inbound_delimiter: \",\"\n",
    "outbound_delimiter: \"|\"\n",
    "skip_leading_rows: 1\n",
    "columns:\n",
    "    -review_id \n",
    "    -user_id \n",
    "    -business_id \n",
    "    -stars \n",
    "    -date \n",
    "    -text\n",
    "    -useful \n",
    "    -funny\n",
    "    -cool\n"
   ]
  },
  {
   "cell_type": "markdown",
   "id": "a1625576",
   "metadata": {},
   "source": [
    "#### Reading Config file"
   ]
  },
  {
   "cell_type": "code",
   "execution_count": null,
   "id": "e2df21ea",
   "metadata": {},
   "outputs": [],
   "source": [
    "import utility as util\n",
    "import yaml\n",
    "config_data = util.read_config_file(\"store.yaml\")"
   ]
  },
  {
   "cell_type": "markdown",
   "id": "401b9fba",
   "metadata": {},
   "source": [
    "#### Inspecting the data of the Config file."
   ]
  },
  {
   "cell_type": "code",
   "execution_count": null,
   "id": "e7173f49",
   "metadata": {},
   "outputs": [],
   "source": [
    "config_data"
   ]
  },
  {
   "cell_type": "markdown",
   "id": "cdf720fd",
   "metadata": {},
   "source": [
    "#### Normal reading process of the file "
   ]
  },
  {
   "cell_type": "code",
   "execution_count": 3,
   "id": "5f546205",
   "metadata": {},
   "outputs": [],
   "source": [
    "import pandas as pd\n",
    "#df_sample = pandas_df\n",
    "df_sample = pd.read_csv('C:/Users/TALEHOUSE/Downloads/archive (1)/yelp_review.csv',delimiter=',')"
   ]
  },
  {
   "cell_type": "code",
   "execution_count": 4,
   "id": "ecdafddd",
   "metadata": {},
   "outputs": [
    {
     "data": {
      "text/html": [
       "<div>\n",
       "<style scoped>\n",
       "    .dataframe tbody tr th:only-of-type {\n",
       "        vertical-align: middle;\n",
       "    }\n",
       "\n",
       "    .dataframe tbody tr th {\n",
       "        vertical-align: top;\n",
       "    }\n",
       "\n",
       "    .dataframe thead th {\n",
       "        text-align: right;\n",
       "    }\n",
       "</style>\n",
       "<table border=\"1\" class=\"dataframe\">\n",
       "  <thead>\n",
       "    <tr style=\"text-align: right;\">\n",
       "      <th></th>\n",
       "      <th>review_id</th>\n",
       "      <th>user_id</th>\n",
       "      <th>business_id</th>\n",
       "      <th>stars</th>\n",
       "      <th>date</th>\n",
       "      <th>text</th>\n",
       "      <th>useful</th>\n",
       "      <th>funny</th>\n",
       "      <th>cool</th>\n",
       "    </tr>\n",
       "  </thead>\n",
       "  <tbody>\n",
       "    <tr>\n",
       "      <th>0</th>\n",
       "      <td>vkVSCC7xljjrAI4UGfnKEQ</td>\n",
       "      <td>bv2nCi5Qv5vroFiqKGopiw</td>\n",
       "      <td>AEx2SYEUJmTxVVB18LlCwA</td>\n",
       "      <td>5</td>\n",
       "      <td>2016-05-28</td>\n",
       "      <td>Super simple place but amazing nonetheless. It...</td>\n",
       "      <td>0</td>\n",
       "      <td>0</td>\n",
       "      <td>0</td>\n",
       "    </tr>\n",
       "    <tr>\n",
       "      <th>1</th>\n",
       "      <td>n6QzIUObkYshz4dz2QRJTw</td>\n",
       "      <td>bv2nCi5Qv5vroFiqKGopiw</td>\n",
       "      <td>VR6GpWIda3SfvPC-lg9H3w</td>\n",
       "      <td>5</td>\n",
       "      <td>2016-05-28</td>\n",
       "      <td>Small unassuming place that changes their menu...</td>\n",
       "      <td>0</td>\n",
       "      <td>0</td>\n",
       "      <td>0</td>\n",
       "    </tr>\n",
       "    <tr>\n",
       "      <th>2</th>\n",
       "      <td>MV3CcKScW05u5LVfF6ok0g</td>\n",
       "      <td>bv2nCi5Qv5vroFiqKGopiw</td>\n",
       "      <td>CKC0-MOWMqoeWf6s-szl8g</td>\n",
       "      <td>5</td>\n",
       "      <td>2016-05-28</td>\n",
       "      <td>Lester's is located in a beautiful neighborhoo...</td>\n",
       "      <td>0</td>\n",
       "      <td>0</td>\n",
       "      <td>0</td>\n",
       "    </tr>\n",
       "    <tr>\n",
       "      <th>3</th>\n",
       "      <td>IXvOzsEMYtiJI0CARmj77Q</td>\n",
       "      <td>bv2nCi5Qv5vroFiqKGopiw</td>\n",
       "      <td>ACFtxLv8pGrrxMm6EgjreA</td>\n",
       "      <td>4</td>\n",
       "      <td>2016-05-28</td>\n",
       "      <td>Love coming here. Yes the place always needs t...</td>\n",
       "      <td>0</td>\n",
       "      <td>0</td>\n",
       "      <td>0</td>\n",
       "    </tr>\n",
       "    <tr>\n",
       "      <th>4</th>\n",
       "      <td>L_9BTb55X0GDtThi6GlZ6w</td>\n",
       "      <td>bv2nCi5Qv5vroFiqKGopiw</td>\n",
       "      <td>s2I_Ni76bjJNK9yG60iD-Q</td>\n",
       "      <td>4</td>\n",
       "      <td>2016-05-28</td>\n",
       "      <td>Had their chocolate almond croissant and it wa...</td>\n",
       "      <td>0</td>\n",
       "      <td>0</td>\n",
       "      <td>0</td>\n",
       "    </tr>\n",
       "  </tbody>\n",
       "</table>\n",
       "</div>"
      ],
      "text/plain": [
       "                review_id                 user_id             business_id  \\\n",
       "0  vkVSCC7xljjrAI4UGfnKEQ  bv2nCi5Qv5vroFiqKGopiw  AEx2SYEUJmTxVVB18LlCwA   \n",
       "1  n6QzIUObkYshz4dz2QRJTw  bv2nCi5Qv5vroFiqKGopiw  VR6GpWIda3SfvPC-lg9H3w   \n",
       "2  MV3CcKScW05u5LVfF6ok0g  bv2nCi5Qv5vroFiqKGopiw  CKC0-MOWMqoeWf6s-szl8g   \n",
       "3  IXvOzsEMYtiJI0CARmj77Q  bv2nCi5Qv5vroFiqKGopiw  ACFtxLv8pGrrxMm6EgjreA   \n",
       "4  L_9BTb55X0GDtThi6GlZ6w  bv2nCi5Qv5vroFiqKGopiw  s2I_Ni76bjJNK9yG60iD-Q   \n",
       "\n",
       "   stars        date                                               text  \\\n",
       "0      5  2016-05-28  Super simple place but amazing nonetheless. It...   \n",
       "1      5  2016-05-28  Small unassuming place that changes their menu...   \n",
       "2      5  2016-05-28  Lester's is located in a beautiful neighborhoo...   \n",
       "3      4  2016-05-28  Love coming here. Yes the place always needs t...   \n",
       "4      4  2016-05-28  Had their chocolate almond croissant and it wa...   \n",
       "\n",
       "   useful  funny  cool  \n",
       "0       0      0     0  \n",
       "1       0      0     0  \n",
       "2       0      0     0  \n",
       "3       0      0     0  \n",
       "4       0      0     0  "
      ]
     },
     "execution_count": 4,
     "metadata": {},
     "output_type": "execute_result"
    }
   ],
   "source": [
    "df_sample.head()"
   ]
  },
  {
   "cell_type": "markdown",
   "id": "0504888b",
   "metadata": {},
   "source": [
    "#### Reading the file using config file"
   ]
  },
  {
   "cell_type": "code",
   "execution_count": null,
   "id": "fb636491",
   "metadata": {},
   "outputs": [],
   "source": [
    "file_type = config_data['file_type']\n",
    "source_file = \"./\" + config_data['file_name'] + f'.{file_type}'"
   ]
  },
  {
   "cell_type": "markdown",
   "id": "b7e6a21f",
   "metadata": {},
   "source": [
    "#### Validating the header of the file"
   ]
  },
  {
   "cell_type": "code",
   "execution_count": null,
   "id": "1e38a535",
   "metadata": {},
   "outputs": [],
   "source": [
    "util.col_header_val(df,config_data)"
   ]
  },
  {
   "cell_type": "code",
   "execution_count": null,
   "id": "e12e0c7e",
   "metadata": {},
   "outputs": [],
   "source": [
    "print(\"columns of files are:\" ,df.columns)\n",
    "print(\"columns of YAML are:\" ,config_data['columns'])"
   ]
  },
  {
   "cell_type": "code",
   "execution_count": null,
   "id": "f19a1c0b",
   "metadata": {},
   "outputs": [],
   "source": [
    "if util.col_header_val(df,config_data)==0:\n",
    "    print(\"validation failed\")\n",
    "else:\n",
    "    print(\"col validation passed\")"
   ]
  },
  {
   "cell_type": "code",
   "execution_count": null,
   "id": "b5b19a8b",
   "metadata": {},
   "outputs": [],
   "source": [
    "import datetime\n",
    "import csv\n",
    "import gzip\n",
    "\n",
    "from dask import dataframe as dd\n",
    "df = dd.read_csv('C:/Users/TALEHOUSE/Downloads/archive (1)/yelp_review.csv',delimiter=',')\n",
    "\n",
    "# Write csv in gz format in pipe separated text file (|)\n",
    "df.to_csv('yelp_review.csv.gz',\n",
    "          sep='|',\n",
    "          header=True,\n",
    "          index=False,\n",
    "          quoting=csv.QUOTE_ALL,\n",
    "          compression='gzip',\n",
    "          quotechar='\"',\n",
    "          doublequote=True,\n",
    "          line_terminator='\\n')"
   ]
  },
  {
   "cell_type": "markdown",
   "id": "8864e8de",
   "metadata": {},
   "source": [
    "#### Number of files in gz format folder"
   ]
  },
  {
   "cell_type": "code",
   "execution_count": null,
   "id": "de5d060a",
   "metadata": {},
   "outputs": [],
   "source": [
    "import os\n",
    "entries = os.listdir('C:/Users/TALEHOUSE/Downloads/archive (1)/yelp_review.csv.gz/')\n",
    "for entry in entries:\n",
    "    print(entry)"
   ]
  },
  {
   "cell_type": "markdown",
   "id": "6e5d9c08",
   "metadata": {},
   "source": [
    "#### Size of the gz format folder"
   ]
  },
  {
   "cell_type": "code",
   "execution_count": null,
   "id": "58f51484",
   "metadata": {},
   "outputs": [],
   "source": [
    "os.path.getsize('C:/Users/TALEHOUSE/Downloads/archive (1)/yelp_review.csv.gz')"
   ]
  }
 ],
 "metadata": {
  "kernelspec": {
   "display_name": "Python 3 (ipykernel)",
   "language": "python",
   "name": "python3"
  },
  "language_info": {
   "codemirror_mode": {
    "name": "ipython",
    "version": 3
   },
   "file_extension": ".py",
   "mimetype": "text/x-python",
   "name": "python",
   "nbconvert_exporter": "python",
   "pygments_lexer": "ipython3",
   "version": "3.10.9"
  }
 },
 "nbformat": 4,
 "nbformat_minor": 5
}
